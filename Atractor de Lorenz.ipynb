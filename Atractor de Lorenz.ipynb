{
 "cells": [
  {
   "cell_type": "markdown",
   "metadata": {},
   "source": [
    "# ATRACTOR DE LORENZ"
   ]
  },
  {
   "cell_type": "code",
   "execution_count": 1,
   "metadata": {},
   "outputs": [],
   "source": [
    "%matplotlib inline\n",
    "\n",
    "import numpy as np\n",
    "from scipy.integrate import odeint\n",
    "import matplotlib.pyplot as plt\n",
    "from mpl_toolkits.mplot3d import Axes3D"
   ]
  },
  {
   "cell_type": "code",
   "execution_count": 8,
   "metadata": {},
   "outputs": [
    {
     "data": {
      "image/png": "[encoded data removed]",
      "text/plain": [
       "<Figure size 432x288 with 1 Axes>"
      ]
     },
     "metadata": {},
     "output_type": "display_data"
    }
   ],
   "source": [
    "def lorenz(X, t, sigma, beta, rho):\n",
    "    x, y, z = X\n",
    "    x_dot =-sigma*(x - y)\n",
    "    y_dot = rho*x - y - x*z\n",
    "    z_dot =-beta*z + x*y\n",
    "    return x_dot, y_dot, z_dot\n",
    "\n",
    "sigma, beta, rho = 10, 2.667, 28\n",
    "x0, y0,z0 = 0, 1, 1.05\n",
    "tmax, n = 100, 10000\n",
    "t = np.linspace(0, tmax, n)\n",
    "f = odeint(lorenz, (x0, y0, z0), t, args=(sigma, beta, rho))\n",
    "x, y, z = f.T\n",
    "\n",
    "fig = plt.figure()\n",
    "ax = fig.gca(projection='3d')\n",
    "ax.plot(x, y, z, lw=0.5, c='pink')\n",
    "ax.set_xlabel(\"X Axis\")\n",
    "ax.set_ylabel(\"Y Axis\")\n",
    "ax.set_zlabel(\"Z Axis\")\n",
    "ax.set_title(\"Lorenz Attractor\")\n",
    "ax.set_axis_off()\n",
    "plt.show()"
   ]
  },
  {
   "cell_type": "code",
   "execution_count": 10,
   "metadata": {},
   "outputs": [
    {
     "name": "stdout",
     "output_type": "stream",
     "text": [
      "Collecting ipyvolume\n",
      "\u001b[?25l  Downloading https://files.pythonhosted.org/packages/6c/e4/4a6754d2c390ee627f82aeaae76b34a1daf30eea80af41215eebedb0f5ce/ipyvolume-0.5.1-py2.py3-none-any.whl (2.3MB)\n",
      "\u001b[K    100% |████████████████████████████████| 2.3MB 1.9MB/s ta 0:00:011\n",
      "\u001b[?25hRequirement already satisfied: requests in /Users/isaperez/anaconda3/lib/python3.6/site-packages (from ipyvolume) (2.18.4)\n",
      "Requirement already satisfied: numpy in /Users/isaperez/anaconda3/lib/python3.6/site-packages (from ipyvolume) (1.14.3)\n",
      "Collecting traittypes (from ipyvolume)\n",
      "  Downloading https://files.pythonhosted.org/packages/9c/d1/8d5bd662703cc1764d986f6908a608777305946fa634d34c470cd4a1e729/traittypes-0.2.1-py2.py3-none-any.whl\n",
      "Requirement already satisfied: ipywidgets>=7.0.0 in /Users/isaperez/anaconda3/lib/python3.6/site-packages (from ipyvolume) (7.2.1)\n",
      "Collecting ipywebrtc (from ipyvolume)\n",
      "\u001b[?25l  Downloading https://files.pythonhosted.org/packages/b5/8f/7fcea04290388263a5e85b7087ef23ae0d80b4676c1ce372d99fd3c893d0/ipywebrtc-0.4.1-py2.py3-none-any.whl (1.1MB)\n",
      "\u001b[K    100% |████████████████████████████████| 1.1MB 1.9MB/s ta 0:00:011\n",
      "\u001b[?25hRequirement already satisfied: traitlets in /Users/isaperez/anaconda3/lib/python3.6/site-packages (from ipyvolume) (4.3.2)\n",
      "Collecting pythreejs>=1.0.0 (from ipyvolume)\n",
      "\u001b[?25l  Downloading https://files.pythonhosted.org/packages/5a/68/3378c3e6120f798fae075aff967b7ce3ff240b99537a574895f4058e10aa/pythreejs-2.0.0-py2.py3-none-any.whl (3.9MB)\n",
      "\u001b[K    100% |████████████████████████████████| 3.9MB 4.9MB/s eta 0:00:01\n",
      "\u001b[?25hRequirement already satisfied: Pillow in /Users/isaperez/anaconda3/lib/python3.6/site-packages (from ipyvolume) (5.1.0)\n",
      "Requirement already satisfied: chardet<3.1.0,>=3.0.2 in /Users/isaperez/anaconda3/lib/python3.6/site-packages (from requests->ipyvolume) (3.0.4)\n",
      "Requirement already satisfied: idna<2.7,>=2.5 in /Users/isaperez/anaconda3/lib/python3.6/site-packages (from requests->ipyvolume) (2.6)\n",
      "Requirement already satisfied: urllib3<1.23,>=1.21.1 in /Users/isaperez/anaconda3/lib/python3.6/site-packages (from requests->ipyvolume) (1.22)\n",
      "Requirement already satisfied: certifi>=2017.4.17 in /Users/isaperez/anaconda3/lib/python3.6/site-packages (from requests->ipyvolume) (2018.4.16)\n",
      "Requirement already satisfied: ipykernel>=4.5.1 in /Users/isaperez/anaconda3/lib/python3.6/site-packages (from ipywidgets>=7.0.0->ipyvolume) (4.8.2)\n",
      "Requirement already satisfied: nbformat>=4.2.0 in /Users/isaperez/anaconda3/lib/python3.6/site-packages (from ipywidgets>=7.0.0->ipyvolume) (4.4.0)\n",
      "Requirement already satisfied: widgetsnbextension~=3.2.0 in /Users/isaperez/anaconda3/lib/python3.6/site-packages (from ipywidgets>=7.0.0->ipyvolume) (3.2.1)\n",
      "Requirement already satisfied: ipython>=4.0.0 in /Users/isaperez/anaconda3/lib/python3.6/site-packages (from ipywidgets>=7.0.0->ipyvolume) (6.4.0)\n",
      "Requirement already satisfied: ipython_genutils in /Users/isaperez/anaconda3/lib/python3.6/site-packages (from traitlets->ipyvolume) (0.2.0)\n",
      "Requirement already satisfied: six in /Users/isaperez/anaconda3/lib/python3.6/site-packages (from traitlets->ipyvolume) (1.11.0)\n",
      "Requirement already satisfied: decorator in /Users/isaperez/anaconda3/lib/python3.6/site-packages (from traitlets->ipyvolume) (4.3.0)\n",
      "Collecting ipydatawidgets>=1.1.1 (from pythreejs>=1.0.0->ipyvolume)\n",
      "\u001b[?25l  Downloading https://files.pythonhosted.org/packages/d3/cf/993122ee6f676379b29c50721f9b79ba027974ac94c1ebff7b79d33e1ee1/ipydatawidgets-3.2.0-py2.py3-none-any.whl (247kB)\n",
      "\u001b[K    100% |████████████████████████████████| 256kB 14.1MB/s ta 0:00:01\n",
      "\u001b[?25hRequirement already satisfied: jupyter_client in /Users/isaperez/anaconda3/lib/python3.6/site-packages (from ipykernel>=4.5.1->ipywidgets>=7.0.0->ipyvolume) (5.2.3)\n",
      "Requirement already satisfied: tornado>=4.0 in /Users/isaperez/anaconda3/lib/python3.6/site-packages (from ipykernel>=4.5.1->ipywidgets>=7.0.0->ipyvolume) (5.0.2)\n",
      "Requirement already satisfied: jsonschema!=2.5.0,>=2.4 in /Users/isaperez/anaconda3/lib/python3.6/site-packages (from nbformat>=4.2.0->ipywidgets>=7.0.0->ipyvolume) (2.6.0)\n",
      "Requirement already satisfied: jupyter_core in /Users/isaperez/anaconda3/lib/python3.6/site-packages (from nbformat>=4.2.0->ipywidgets>=7.0.0->ipyvolume) (4.4.0)\n",
      "Requirement already satisfied: notebook>=4.4.1 in /Users/isaperez/anaconda3/lib/python3.6/site-packages (from widgetsnbextension~=3.2.0->ipywidgets>=7.0.0->ipyvolume) (5.5.0)\n",
      "Requirement already satisfied: appnope; sys_platform == \"darwin\" in /Users/isaperez/anaconda3/lib/python3.6/site-packages (from ipython>=4.0.0->ipywidgets>=7.0.0->ipyvolume) (0.1.0)\n",
      "Requirement already satisfied: setuptools>=18.5 in /Users/isaperez/anaconda3/lib/python3.6/site-packages (from ipython>=4.0.0->ipywidgets>=7.0.0->ipyvolume) (39.1.0)\n",
      "Requirement already satisfied: prompt-toolkit<2.0.0,>=1.0.15 in /Users/isaperez/anaconda3/lib/python3.6/site-packages (from ipython>=4.0.0->ipywidgets>=7.0.0->ipyvolume) (1.0.15)\n",
      "Requirement already satisfied: jedi>=0.10 in /Users/isaperez/anaconda3/lib/python3.6/site-packages (from ipython>=4.0.0->ipywidgets>=7.0.0->ipyvolume) (0.12.0)\n",
      "Requirement already satisfied: pygments in /Users/isaperez/anaconda3/lib/python3.6/site-packages (from ipython>=4.0.0->ipywidgets>=7.0.0->ipyvolume) (2.2.0)\n",
      "Requirement already satisfied: pickleshare in /Users/isaperez/anaconda3/lib/python3.6/site-packages (from ipython>=4.0.0->ipywidgets>=7.0.0->ipyvolume) (0.7.4)\n",
      "Requirement already satisfied: simplegeneric>0.8 in /Users/isaperez/anaconda3/lib/python3.6/site-packages (from ipython>=4.0.0->ipywidgets>=7.0.0->ipyvolume) (0.8.1)\n",
      "Requirement already satisfied: pexpect; sys_platform != \"win32\" in /Users/isaperez/anaconda3/lib/python3.6/site-packages (from ipython>=4.0.0->ipywidgets>=7.0.0->ipyvolume) (4.5.0)\n",
      "Requirement already satisfied: backcall in /Users/isaperez/anaconda3/lib/python3.6/site-packages (from ipython>=4.0.0->ipywidgets>=7.0.0->ipyvolume) (0.1.0)\n",
      "Requirement already satisfied: pyzmq>=13 in /Users/isaperez/anaconda3/lib/python3.6/site-packages (from jupyter_client->ipykernel>=4.5.1->ipywidgets>=7.0.0->ipyvolume) (17.0.0)\n",
      "Requirement already satisfied: python-dateutil>=2.1 in /Users/isaperez/anaconda3/lib/python3.6/site-packages (from jupyter_client->ipykernel>=4.5.1->ipywidgets>=7.0.0->ipyvolume) (2.7.3)\n",
      "Requirement already satisfied: nbconvert in /Users/isaperez/anaconda3/lib/python3.6/site-packages (from notebook>=4.4.1->widgetsnbextension~=3.2.0->ipywidgets>=7.0.0->ipyvolume) (5.3.1)\n",
      "Requirement already satisfied: terminado>=0.8.1 in /Users/isaperez/anaconda3/lib/python3.6/site-packages (from notebook>=4.4.1->widgetsnbextension~=3.2.0->ipywidgets>=7.0.0->ipyvolume) (0.8.1)\n",
      "Requirement already satisfied: Send2Trash in /Users/isaperez/anaconda3/lib/python3.6/site-packages (from notebook>=4.4.1->widgetsnbextension~=3.2.0->ipywidgets>=7.0.0->ipyvolume) (1.5.0)\n",
      "Requirement already satisfied: jinja2 in /Users/isaperez/anaconda3/lib/python3.6/site-packages (from notebook>=4.4.1->widgetsnbextension~=3.2.0->ipywidgets>=7.0.0->ipyvolume) (2.10)\n",
      "Requirement already satisfied: wcwidth in /Users/isaperez/anaconda3/lib/python3.6/site-packages (from prompt-toolkit<2.0.0,>=1.0.15->ipython>=4.0.0->ipywidgets>=7.0.0->ipyvolume) (0.1.7)\n",
      "Requirement already satisfied: parso>=0.2.0 in /Users/isaperez/anaconda3/lib/python3.6/site-packages (from jedi>=0.10->ipython>=4.0.0->ipywidgets>=7.0.0->ipyvolume) (0.2.0)\n",
      "Requirement already satisfied: ptyprocess>=0.5 in /Users/isaperez/anaconda3/lib/python3.6/site-packages (from pexpect; sys_platform != \"win32\"->ipython>=4.0.0->ipywidgets>=7.0.0->ipyvolume) (0.5.2)\n",
      "Requirement already satisfied: mistune>=0.7.4 in /Users/isaperez/anaconda3/lib/python3.6/site-packages (from nbconvert->notebook>=4.4.1->widgetsnbextension~=3.2.0->ipywidgets>=7.0.0->ipyvolume) (0.8.3)\n",
      "Requirement already satisfied: entrypoints>=0.2.2 in /Users/isaperez/anaconda3/lib/python3.6/site-packages (from nbconvert->notebook>=4.4.1->widgetsnbextension~=3.2.0->ipywidgets>=7.0.0->ipyvolume) (0.2.3)\n",
      "Requirement already satisfied: bleach in /Users/isaperez/anaconda3/lib/python3.6/site-packages (from nbconvert->notebook>=4.4.1->widgetsnbextension~=3.2.0->ipywidgets>=7.0.0->ipyvolume) (2.1.3)\n",
      "Requirement already satisfied: pandocfilters>=1.4.1 in /Users/isaperez/anaconda3/lib/python3.6/site-packages (from nbconvert->notebook>=4.4.1->widgetsnbextension~=3.2.0->ipywidgets>=7.0.0->ipyvolume) (1.4.2)\n",
      "Requirement already satisfied: testpath in /Users/isaperez/anaconda3/lib/python3.6/site-packages (from nbconvert->notebook>=4.4.1->widgetsnbextension~=3.2.0->ipywidgets>=7.0.0->ipyvolume) (0.3.1)\n",
      "Requirement already satisfied: MarkupSafe>=0.23 in /Users/isaperez/anaconda3/lib/python3.6/site-packages (from jinja2->notebook>=4.4.1->widgetsnbextension~=3.2.0->ipywidgets>=7.0.0->ipyvolume) (1.0)\n",
      "Requirement already satisfied: html5lib!=1.0b1,!=1.0b2,!=1.0b3,!=1.0b4,!=1.0b5,!=1.0b6,!=1.0b7,!=1.0b8,>=0.99999999pre in /Users/isaperez/anaconda3/lib/python3.6/site-packages (from bleach->nbconvert->notebook>=4.4.1->widgetsnbextension~=3.2.0->ipywidgets>=7.0.0->ipyvolume) (1.0.1)\n",
      "Requirement already satisfied: webencodings in /Users/isaperez/anaconda3/lib/python3.6/site-packages (from html5lib!=1.0b1,!=1.0b2,!=1.0b3,!=1.0b4,!=1.0b5,!=1.0b6,!=1.0b7,!=1.0b8,>=0.99999999pre->bleach->nbconvert->notebook>=4.4.1->widgetsnbextension~=3.2.0->ipywidgets>=7.0.0->ipyvolume) (0.5.1)\n"
     ]
    },
    {
     "name": "stdout",
     "output_type": "stream",
     "text": [
      "\u001b[31mdistributed 1.21.8 requires msgpack, which is not installed.\u001b[0m\n",
      "\u001b[31mipywebrtc 0.4.1 has requirement ipywidgets>=7.4.0, but you'll have ipywidgets 7.2.1 which is incompatible.\u001b[0m\n",
      "Installing collected packages: traittypes, ipywebrtc, ipydatawidgets, pythreejs, ipyvolume\n",
      "Successfully installed ipydatawidgets-3.2.0 ipyvolume-0.5.1 ipywebrtc-0.4.1 pythreejs-2.0.0 traittypes-0.2.1\n",
      "\u001b[33mYou are using pip version 10.0.1, however version 18.1 is available.\n",
      "You should consider upgrading via the 'pip install --upgrade pip' command.\u001b[0m\n"
     ]
    }
   ],
   "source": [
    "!pip install ipyvolume"
   ]
  },
  {
   "cell_type": "code",
   "execution_count": null,
   "metadata": {},
   "outputs": [],
   "source": []
  },
  {
   "cell_type": "code",
   "execution_count": 14,
   "metadata": {},
   "outputs": [
    {
     "ename": "NameError",
     "evalue": "name 'p3' is not defined",
     "output_type": "error",
     "traceback": [
      "\u001b[0;31m---------------------------------------------------------------------------\u001b[0m",
      "\u001b[0;31mNameError\u001b[0m                                 Traceback (most recent call last)",
      "\u001b[0;32m<ipython-input-14-b6c784b6c4b0>\u001b[0m in \u001b[0;36m<module>\u001b[0;34m()\u001b[0m\n\u001b[1;32m     13\u001b[0m \u001b[0mx\u001b[0m\u001b[0;34m,\u001b[0m \u001b[0my\u001b[0m\u001b[0;34m,\u001b[0m \u001b[0mz\u001b[0m \u001b[0;34m=\u001b[0m \u001b[0mf\u001b[0m\u001b[0;34m.\u001b[0m\u001b[0mT\u001b[0m\u001b[0;34m\u001b[0m\u001b[0m\n\u001b[1;32m     14\u001b[0m \u001b[0;34m\u001b[0m\u001b[0m\n\u001b[0;32m---> 15\u001b[0;31m \u001b[0mfig\u001b[0m \u001b[0;34m=\u001b[0m \u001b[0mp3\u001b[0m\u001b[0;34m.\u001b[0m\u001b[0mfigure\u001b[0m\u001b[0;34m(\u001b[0m\u001b[0mtitle\u001b[0m\u001b[0;34m=\u001b[0m\u001b[0;34m\"Lorenz\"\u001b[0m\u001b[0;34m)\u001b[0m\u001b[0;34m\u001b[0m\u001b[0m\n\u001b[0m\u001b[1;32m     16\u001b[0m \u001b[0;34m\u001b[0m\u001b[0m\n\u001b[1;32m     17\u001b[0m \u001b[0mp3\u001b[0m\u001b[0;34m.\u001b[0m\u001b[0mplot\u001b[0m\u001b[0;34m(\u001b[0m\u001b[0mx\u001b[0m\u001b[0;34m,\u001b[0m\u001b[0my\u001b[0m\u001b[0;34m,\u001b[0m\u001b[0mz\u001b[0m\u001b[0;34m,\u001b[0m\u001b[0mcolor\u001b[0m\u001b[0;34m=\u001b[0m\u001b[0;34m\"pink\"\u001b[0m\u001b[0;34m,\u001b[0m\u001b[0malpha\u001b[0m\u001b[0;34m=\u001b[0m\u001b[0;36m0.4\u001b[0m\u001b[0;34m)\u001b[0m\u001b[0;34m\u001b[0m\u001b[0m\n",
      "\u001b[0;31mNameError\u001b[0m: name 'p3' is not defined"
     ]
    }
   ],
   "source": [
    "def lorenz(X, t, sigma, beta, rho):\n",
    "    x, y, z = X\n",
    "    x_dot =-sigma*(x - y)\n",
    "    y_dot = rho*x - y - x*z\n",
    "    z_dot =-beta*z + x*y\n",
    "    return x_dot, y_dot, z_dot\n",
    "\n",
    "sigma, beta, rho = 10, 2.667, 28\n",
    "x0, y0,z0 = 0, 1, 1.05\n",
    "tmax, n = 100, 10000\n",
    "t = np.linspace(0, tmax, n)\n",
    "f = odeint(lorenz, (x0, y0, z0), t, args=(sigma, beta, rho))\n",
    "x, y, z = f.T\n",
    "\n",
    "fig = p3.figure(title=\"Lorenz\")\n",
    "\n",
    "p3.plot(x,y,z,color=\"pink\",alpha=0.4)\n",
    "\n",
    "p3.show()"
   ]
  },
  {
   "cell_type": "code",
   "execution_count": null,
   "metadata": {},
   "outputs": [],
   "source": []
  }
 ],
 "metadata": {
  "kernelspec": {
   "display_name": "Python 3",
   "language": "python",
   "name": "python3"
  },
  "language_info": {
   "codemirror_mode": {
    "name": "ipython",
    "version": 3
   },
   "file_extension": ".py",
   "mimetype": "text/x-python",
   "name": "python",
   "nbconvert_exporter": "python",
   "pygments_lexer": "ipython3",
   "version": "3.6.5"
  }
 },
 "nbformat": 4,
 "nbformat_minor": 2
}
